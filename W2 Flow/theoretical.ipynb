{
 "cells": [
  {
   "cell_type": "markdown",
   "metadata": {},
   "source": [
    "### Basis tilfælde ala K = 2"
   ]
  },
  {
   "cell_type": "markdown",
   "metadata": {},
   "source": [
    "$$\n",
    "f_1^{-1}(f_2^{-1}(f_2(f_1(x)))) = f_2(f_1(f_1^{-1}(f_2^{-1}(x))))\n",
    "$$\n",
    "\n",
    "$$\n",
    "f_1 = a_1 x + b_1, \\quad\n",
    "f_2 = a_2 x + b_2\n",
    "$$\n",
    "\n",
    "$$\n",
    "f_1^{-1} = \\frac{1}{a_1} x - \\frac{b_1}{a_1}, \\quad\n",
    "f_2^{-1} = \\frac{1}{a_2} x - \\frac{b_2}{a_2}\n",
    "$$"
   ]
  },
  {
   "cell_type": "markdown",
   "metadata": {},
   "source": [
    "$$\n",
    "F(x) = f_{k+1}(f_k(f_{k-1}))\n",
    "$$\n",
    "\n",
    "$$\n",
    "F(x)^{-1} = f_{k-1}^{-1}(f_k^{-1}(f_{k+1}^{-1}))\n",
    "$$\n",
    "\n",
    "$$\n",
    "f_{k-1}^{-1}(f_k^{-1}(f_{k+1}^{-1}(f_{k+1}(f_k(f_{k-1}))))) = f_{k+1}(f_k(f_{k-1}(f_{k-1}^{-1}(f_k^{-1}(f_{k+1}^{-1})))))\n",
    "$$\n",
    "\n",
    "\n",
    "$$\n",
    "f_{k-1} = f_{k-1}\n",
    "$$"
   ]
  }
 ],
 "metadata": {
  "language_info": {
   "name": "python"
  }
 },
 "nbformat": 4,
 "nbformat_minor": 2
}
